{
 "cells": [
  {
   "cell_type": "markdown",
   "metadata": {},
   "source": [
    "# Cats vs Dogs"
   ]
  },
  {
   "cell_type": "markdown",
   "metadata": {},
   "source": [
    "## Train and test the model"
   ]
  },
  {
   "cell_type": "markdown",
   "metadata": {},
   "source": [
    "#### Imports"
   ]
  },
  {
   "cell_type": "code",
   "execution_count": 1,
   "metadata": {},
   "outputs": [],
   "source": [
    "import numpy as np\n",
    "import pandas as pd\n",
    "import cv2\n",
    "import matplotlib.pyplot as plt\n",
    "import tensorflow as tf\n",
    "from tensorflow.keras import models\n",
    "from tensorflow.keras.models import Sequential\n",
    "from tensorflow.keras.layers import Dense, Flatten, Dropout, Activation, Conv2D, MaxPooling2D\n",
    "from sklearn.model_selection import train_test_split\n",
    "from sklearn.metrics import classification_report, confusion_matrix \n",
    "import itertools\n",
    "import os"
   ]
  },
  {
   "cell_type": "code",
   "execution_count": 2,
   "metadata": {},
   "outputs": [],
   "source": [
    "path = \"data/train\""
   ]
  },
  {
   "cell_type": "markdown",
   "metadata": {},
   "source": [
    "#### Data preparation"
   ]
  },
  {
   "cell_type": "markdown",
   "metadata": {},
   "source": [
    "Cada imagen es en realidad un conjunto de píxeles. El objetivo es convertir esos píxeles en un arreglo.\n",
    "Para eso utilizamos cv2 (OpenCV-Python)"
   ]
  },
  {
   "cell_type": "markdown",
   "metadata": {},
   "source": [
    "Todas las imagenes se encuentran en la carpeta \"data\" y cumplen con el formato \"categoria.numero.formato\""
   ]
  },
  {
   "cell_type": "code",
   "execution_count": 3,
   "metadata": {},
   "outputs": [],
   "source": [
    "X = []\n",
    "y = []"
   ]
  },
  {
   "cell_type": "markdown",
   "metadata": {},
   "source": [
    "Si la categoria es igual nombre indicado, entonces es 1. De otra forma es 0 (indica que pertenece a la otra categoria)"
   ]
  },
  {
   "cell_type": "code",
   "execution_count": 4,
   "metadata": {},
   "outputs": [],
   "source": [
    "convert = lambda category : int(category == 'dog')"
   ]
  },
  {
   "cell_type": "markdown",
   "metadata": {},
   "source": [
    "Definimos una funcion para crear nuestro arreglo con las imágenes preprocesadas (X) y nuestro arreglo de labels (y)."
   ]
  },
  {
   "cell_type": "code",
   "execution_count": 5,
   "metadata": {},
   "outputs": [],
   "source": [
    "def create_test_data(path):\n",
    "    for p in os.listdir(path):\n",
    "        #Obtenemos la categoria del nombre del archivo\n",
    "        category = p.split(\".\")[0]\n",
    "        category = convert(category)\n",
    "        \n",
    "        #Leemos la imagen en escala de grises y convertimos los pixeles en un arreglo\n",
    "        img_array = cv2.imread(os.path.join(path,p),cv2.IMREAD_GRAYSCALE)\n",
    "        \n",
    "        #Disminuimos el tamaño de la imagen\n",
    "        new_img_array = cv2.resize(img_array, dsize=(100, 100))\n",
    "        \n",
    "        X.append(new_img_array)\n",
    "        y.append(category)"
   ]
  },
  {
   "cell_type": "markdown",
   "metadata": {},
   "source": [
    "Llamar a la funcion create_test_data"
   ]
  },
  {
   "cell_type": "code",
   "execution_count": 6,
   "metadata": {},
   "outputs": [],
   "source": [
    "create_test_data(path)"
   ]
  },
  {
   "cell_type": "markdown",
   "metadata": {},
   "source": [
    "Crear numpy arrays. Se hace reshape en X para que la forma de nuestros datos cumpla con los requisitos del parámetro \"input_shape\" en Conv2D (x_shape, y_shape, channels). La nueva dimensión es (número de imágenes, 100, 100, 1)."
   ]
  },
  {
   "cell_type": "code",
   "execution_count": 7,
   "metadata": {},
   "outputs": [],
   "source": [
    "X = np.array(X).reshape(-1,100,100,1)\n",
    "y = np.array(y)"
   ]
  },
  {
   "cell_type": "markdown",
   "metadata": {},
   "source": [
    "Normalizar los datos: Los datos en X son valores que varian entre 0 y 255. Esto es porque cada pixel tiene una densidad disntinta de blanco y negro. Esto puede dificultar el aprendizaje del modelo. Para solucionarlo normalizamos los datos. Como sabemos que varian entre 0 y 255, podemos dividir por 255 y obtener valores entre 0 y 1."
   ]
  },
  {
   "cell_type": "code",
   "execution_count": 8,
   "metadata": {},
   "outputs": [],
   "source": [
    "X = X/255.0"
   ]
  },
  {
   "cell_type": "markdown",
   "metadata": {},
   "source": [
    "Utilizamos train_test_split para dividir en conjunto de entrenamiento y conjunto de test"
   ]
  },
  {
   "cell_type": "code",
   "execution_count": 9,
   "metadata": {},
   "outputs": [],
   "source": [
    "X_train, X_test, y_train, y_test = train_test_split(X, y, test_size=0.2)"
   ]
  },
  {
   "cell_type": "markdown",
   "metadata": {},
   "source": [
    "#### Model"
   ]
  },
  {
   "cell_type": "markdown",
   "metadata": {},
   "source": [
    "Utilizamos el modelo Sequential de Keras donde se agrega de a una capa a la vez.\n",
    "\n",
    "* La primera capa es la de convolución (Conv2D). En ella los parámetros que especificamos son:\n",
    "    1. Número de filtros: 32\n",
    "    2. Kernel_size: (3,3)\n",
    "    3. Función de activación: Elegimos Relu\n",
    "    4. Input_shape: (height, width, depth)\n",
    "    \n",
    "   \n",
    "* La segunda capa es la de Pooling. Esta se utiliza para reducir el costo computacional y, hasta cierto punto, también reduce el overfitting.\n",
    "\n",
    "* Luego agregamos otros conjuntos de capas de convolución y pooling con mayor cantidad de filtros.\n",
    "\n",
    "* Agregamos la capa Flatten, la cual convierte los datos en una matriz unidimensional para ingresarlos en la siguiente capa.\n",
    "\n",
    "* Agregamos la capa Dense (Fully connected neural network layer).\n",
    "\n",
    "* Finalmente agregamos otra capa Dense, la cual tiene como output la predicción. Ponemos a la función sigmoide como función de activación"
   ]
  },
  {
   "cell_type": "code",
   "execution_count": 10,
   "metadata": {},
   "outputs": [],
   "source": [
    "model = Sequential()\n",
    "\n",
    "model.add(Conv2D(32,(3,3), activation = 'relu', input_shape = X_train.shape[1:]))\n",
    "model.add(MaxPooling2D(pool_size = (2,2)))\n",
    "\n",
    "model.add(Conv2D(64,(3,3), activation = 'relu'))\n",
    "model.add(MaxPooling2D(pool_size = (2,2)))\n",
    "\n",
    "model.add(Conv2D(128,(3,3), activation = 'relu'))\n",
    "model.add(MaxPooling2D(pool_size = (2,2)))\n",
    "\n",
    "model.add(Conv2D(256,(3,3), activation = 'relu'))\n",
    "model.add(MaxPooling2D(pool_size = (2,2)))\n",
    "\n",
    "model.add(Flatten())\n",
    "model.add(Dense(512, activation='relu'))\n",
    "\n",
    "model.add(Dense(1, activation='sigmoid'))\n",
    "\n",
    "model.compile(optimizer=\"adam\",\n",
    "              loss='binary_crossentropy',\n",
    "              metrics=['accuracy'])"
   ]
  },
  {
   "cell_type": "markdown",
   "metadata": {},
   "source": [
    "Parámetros al compilar:\n",
    "\n",
    "* optimizer: Elegimos el algoritmo adam, pero se pueden utilizar otros como SGD o RMSprop.\n",
    "* loss: Debido a que tenemos dos posibles resultados, utilizamos binary_crossentropy.\n",
    "* metrics: Métrica para medir el modelo."
   ]
  },
  {
   "cell_type": "code",
   "execution_count": 11,
   "metadata": {},
   "outputs": [
    {
     "name": "stdout",
     "output_type": "stream",
     "text": [
      "Model: \"sequential\"\n",
      "_________________________________________________________________\n",
      "Layer (type)                 Output Shape              Param #   \n",
      "=================================================================\n",
      "conv2d (Conv2D)              (None, 98, 98, 32)        320       \n",
      "_________________________________________________________________\n",
      "max_pooling2d (MaxPooling2D) (None, 49, 49, 32)        0         \n",
      "_________________________________________________________________\n",
      "conv2d_1 (Conv2D)            (None, 47, 47, 64)        18496     \n",
      "_________________________________________________________________\n",
      "max_pooling2d_1 (MaxPooling2 (None, 23, 23, 64)        0         \n",
      "_________________________________________________________________\n",
      "conv2d_2 (Conv2D)            (None, 21, 21, 128)       73856     \n",
      "_________________________________________________________________\n",
      "max_pooling2d_2 (MaxPooling2 (None, 10, 10, 128)       0         \n",
      "_________________________________________________________________\n",
      "conv2d_3 (Conv2D)            (None, 8, 8, 256)         295168    \n",
      "_________________________________________________________________\n",
      "max_pooling2d_3 (MaxPooling2 (None, 4, 4, 256)         0         \n",
      "_________________________________________________________________\n",
      "flatten (Flatten)            (None, 4096)              0         \n",
      "_________________________________________________________________\n",
      "dense (Dense)                (None, 512)               2097664   \n",
      "_________________________________________________________________\n",
      "dense_1 (Dense)              (None, 1)                 513       \n",
      "=================================================================\n",
      "Total params: 2,486,017\n",
      "Trainable params: 2,486,017\n",
      "Non-trainable params: 0\n",
      "_________________________________________________________________\n"
     ]
    }
   ],
   "source": [
    "model.summary()"
   ]
  },
  {
   "cell_type": "markdown",
   "metadata": {},
   "source": [
    "Entrenamos el modelo. Parámetros:\n",
    "\n",
    "    Epochs: Cuantas veces el modelo pasa por el conjunto de entrenamiento.\n",
    "    Batch size: La cantidad de datos a la vez que se desea pasar por el modelo.\n",
    "    validation_split: Se encarga de separar conjunto de entrenamiento y de validacion automaticamente (en este caso 20%)"
   ]
  },
  {
   "cell_type": "code",
   "execution_count": 12,
   "metadata": {},
   "outputs": [
    {
     "name": "stdout",
     "output_type": "stream",
     "text": [
      "Epoch 1/10\n",
      "500/500 [==============================] - 175s 350ms/step - loss: 0.6569 - accuracy: 0.6012 - val_loss: 0.6081 - val_accuracy: 0.6785\n",
      "Epoch 2/10\n",
      "500/500 [==============================] - 174s 348ms/step - loss: 0.5459 - accuracy: 0.7226 - val_loss: 0.5044 - val_accuracy: 0.7515\n",
      "Epoch 3/10\n",
      "500/500 [==============================] - 173s 347ms/step - loss: 0.4547 - accuracy: 0.7822 - val_loss: 0.4281 - val_accuracy: 0.7937\n",
      "Epoch 4/10\n",
      "500/500 [==============================] - 173s 347ms/step - loss: 0.3803 - accuracy: 0.8266 - val_loss: 0.3930 - val_accuracy: 0.8245\n",
      "Epoch 5/10\n",
      "500/500 [==============================] - 174s 348ms/step - loss: 0.3233 - accuracy: 0.8597 - val_loss: 0.3692 - val_accuracy: 0.8460\n",
      "Epoch 6/10\n",
      "500/500 [==============================] - 168s 336ms/step - loss: 0.2744 - accuracy: 0.8844 - val_loss: 0.3866 - val_accuracy: 0.8378\n",
      "Epoch 7/10\n",
      "500/500 [==============================] - 167s 334ms/step - loss: 0.2238 - accuracy: 0.9082 - val_loss: 0.3849 - val_accuracy: 0.8410\n",
      "Epoch 8/10\n",
      "500/500 [==============================] - 167s 333ms/step - loss: 0.1741 - accuracy: 0.9276 - val_loss: 0.4491 - val_accuracy: 0.8353\n",
      "Epoch 9/10\n",
      "500/500 [==============================] - 170s 340ms/step - loss: 0.1318 - accuracy: 0.9462 - val_loss: 0.4617 - val_accuracy: 0.8443\n",
      "Epoch 10/10\n",
      "500/500 [==============================] - 167s 334ms/step - loss: 0.1060 - accuracy: 0.9574 - val_loss: 0.4905 - val_accuracy: 0.8540\n"
     ]
    },
    {
     "data": {
      "text/plain": [
       "<tensorflow.python.keras.callbacks.History at 0x17c53539d90>"
      ]
     },
     "execution_count": 12,
     "metadata": {},
     "output_type": "execute_result"
    }
   ],
   "source": [
    "model.fit(X_train, y_train, epochs=10, batch_size=32, validation_split=0.2)"
   ]
  },
  {
   "cell_type": "markdown",
   "metadata": {},
   "source": [
    "Guardamos el modelo"
   ]
  },
  {
   "cell_type": "code",
   "execution_count": 13,
   "metadata": {},
   "outputs": [],
   "source": [
    "model.save(\"model.h5\")"
   ]
  },
  {
   "cell_type": "markdown",
   "metadata": {},
   "source": [
    "Realizamos las predicciones"
   ]
  },
  {
   "cell_type": "code",
   "execution_count": 14,
   "metadata": {},
   "outputs": [],
   "source": [
    "predictions = model.predict(X_test)"
   ]
  },
  {
   "cell_type": "markdown",
   "metadata": {},
   "source": [
    "Redondeamos los valores ya que usamos la función sigmoide y obtuvimos los valores de probabilidad en nuestras predicciones"
   ]
  },
  {
   "cell_type": "code",
   "execution_count": 15,
   "metadata": {},
   "outputs": [],
   "source": [
    "y_pred = []"
   ]
  },
  {
   "cell_type": "code",
   "execution_count": 16,
   "metadata": {},
   "outputs": [],
   "source": [
    "def round_y_pred():\n",
    "    for p in predictions:\n",
    "        p = p.round()\n",
    "        y_pred.append(p)  "
   ]
  },
  {
   "cell_type": "code",
   "execution_count": 17,
   "metadata": {},
   "outputs": [],
   "source": [
    "round_y_pred()"
   ]
  },
  {
   "cell_type": "markdown",
   "metadata": {},
   "source": [
    "#### Model Evaluation"
   ]
  },
  {
   "cell_type": "markdown",
   "metadata": {},
   "source": [
    "Utilizamos scikit para realizar el reporte de clasificación, el cual nos muestra la precisión, recall y f1-score"
   ]
  },
  {
   "cell_type": "code",
   "execution_count": 18,
   "metadata": {},
   "outputs": [
    {
     "name": "stdout",
     "output_type": "stream",
     "text": [
      "              precision    recall  f1-score   support\n",
      "\n",
      "           0       0.84      0.86      0.85      2507\n",
      "           1       0.86      0.84      0.85      2493\n",
      "\n",
      "    accuracy                           0.85      5000\n",
      "   macro avg       0.85      0.85      0.85      5000\n",
      "weighted avg       0.85      0.85      0.85      5000\n",
      "\n"
     ]
    }
   ],
   "source": [
    "print(classification_report(y_test, y_pred))"
   ]
  },
  {
   "cell_type": "markdown",
   "metadata": {},
   "source": [
    "Realizamos la matriz de confusión y la imprimimos"
   ]
  },
  {
   "cell_type": "code",
   "execution_count": 19,
   "metadata": {},
   "outputs": [],
   "source": [
    "c_matrix = confusion_matrix(y_test, y_pred)"
   ]
  },
  {
   "cell_type": "code",
   "execution_count": 20,
   "metadata": {},
   "outputs": [
    {
     "data": {
      "text/plain": [
       "array([[2167,  340],\n",
       "       [ 399, 2094]], dtype=int64)"
      ]
     },
     "execution_count": 20,
     "metadata": {},
     "output_type": "execute_result"
    }
   ],
   "source": [
    "c_matrix"
   ]
  },
  {
   "cell_type": "markdown",
   "metadata": {},
   "source": [
    "Función para plotear la matriz de confusión"
   ]
  },
  {
   "cell_type": "code",
   "execution_count": 21,
   "metadata": {},
   "outputs": [
    {
     "data": {
      "image/png": "[encoded data removed]",
      "text/plain": [
       "<Figure size 432x288 with 2 Axes>"
      ]
     },
     "metadata": {
      "needs_background": "light"
     },
     "output_type": "display_data"
    }
   ],
   "source": [
    "def plot_confusion_matrix(cm, classes,\n",
    "                          title='Confusion matrix',\n",
    "                          cmap=plt.cm.Blues):\n",
    "    plt.imshow(cm, interpolation='nearest', cmap=cmap)\n",
    "    plt.title(title)\n",
    "    plt.colorbar()\n",
    "    tick_marks = np.arange(len(classes))\n",
    "    plt.xticks(tick_marks, classes, rotation=45)\n",
    "    plt.yticks(tick_marks, classes)   \n",
    "\n",
    "    thresh = cm.max() / 2.\n",
    "    for i, j in itertools.product(range(cm.shape[0]), range(cm.shape[1])):\n",
    "        plt.text(j, i, cm[i, j],\n",
    "            horizontalalignment=\"center\",\n",
    "            color=\"white\" if cm[i, j] > thresh else \"black\")\n",
    "\n",
    "    plt.tight_layout()\n",
    "    plt.ylabel('True label')\n",
    "    plt.xlabel('Predicted label')\n",
    "\n",
    "cm_plot_labels = ['cat','dog']   \n",
    "plot_confusion_matrix(cm=c_matrix, classes=cm_plot_labels, title='Confusion Matrix')"
   ]
  },
  {
   "cell_type": "markdown",
   "metadata": {},
   "source": [
    "## Making predictions"
   ]
  },
  {
   "cell_type": "code",
   "execution_count": 22,
   "metadata": {},
   "outputs": [],
   "source": [
    "model = models.load_model('model.h5')"
   ]
  },
  {
   "cell_type": "code",
   "execution_count": 23,
   "metadata": {},
   "outputs": [],
   "source": [
    "path_test_data = \"data/test1\""
   ]
  },
  {
   "cell_type": "code",
   "execution_count": 24,
   "metadata": {},
   "outputs": [],
   "source": [
    "X = []\n",
    "image_name = []"
   ]
  },
  {
   "cell_type": "code",
   "execution_count": 25,
   "metadata": {},
   "outputs": [],
   "source": [
    "def create_unlabeled_data(path):\n",
    "    for p in os.listdir(path):\n",
    "        image_name.append(p)\n",
    "        #Leemos la imagen en escala de grises y convertimos los pixeles en un arreglo\n",
    "        img_array = cv2.imread(os.path.join(path,p),cv2.IMREAD_GRAYSCALE)        \n",
    "        #Disminuimos el tamaño de la imagen\n",
    "        new_img_array = cv2.resize(img_array, dsize=(100, 100))        \n",
    "        X.append(new_img_array)"
   ]
  },
  {
   "cell_type": "code",
   "execution_count": 26,
   "metadata": {},
   "outputs": [],
   "source": [
    "create_unlabeled_data(path_test_data)"
   ]
  },
  {
   "cell_type": "code",
   "execution_count": 27,
   "metadata": {},
   "outputs": [],
   "source": [
    "#Creamos numpy arrays\n",
    "X_test = np.array(X).reshape(-1,100,100,1)\n",
    "\n",
    "#Normalizamos\n",
    "X_test = X_test/255.0"
   ]
  },
  {
   "cell_type": "code",
   "execution_count": 28,
   "metadata": {},
   "outputs": [],
   "source": [
    "predictions = model.predict(X_test)"
   ]
  },
  {
   "cell_type": "markdown",
   "metadata": {},
   "source": [
    "El razonamiento es el siguiente: Mientras el resultado de predictions sea mas cercano a 0, entonces es cat. Mientras sea mas cercano a 1, es dog. Si la red no está lo suficientemente segura, entonces lo clasificamos como otro."
   ]
  },
  {
   "cell_type": "code",
   "execution_count": 29,
   "metadata": {},
   "outputs": [],
   "source": [
    "def round_percetenges():\n",
    "    for p in predictions:\n",
    "        #print(p)\n",
    "        if p > 0.35  and p < 0.80:\n",
    "            p = [2.0] \n",
    "        else:\n",
    "            p = p.round()\n",
    "            \n",
    "        y_pred.append(p) "
   ]
  },
  {
   "cell_type": "code",
   "execution_count": 30,
   "metadata": {},
   "outputs": [],
   "source": [
    "y_pred = []\n",
    "round_percetenges()"
   ]
  },
  {
   "cell_type": "markdown",
   "metadata": {},
   "source": [
    "Imprimimos los resultados (0 = Cat, 1 = Dog, 2 = Other)"
   ]
  },
  {
   "cell_type": "code",
   "execution_count": 31,
   "metadata": {},
   "outputs": [
    {
     "name": "stdout",
     "output_type": "stream",
     "text": [
      "Imagen: 1.jpg - Prediccion: Cat   -Porcentaje 0.09946391 %\n",
      "Imagen: 10.jpg - Prediccion: Cat   -Porcentaje 2.156303e-06 %\n",
      "Imagen: 100.jpg - Prediccion: Cat   -Porcentaje 0.060059875 %\n",
      "Imagen: 1000.jpg - Prediccion: Dog  -Porcentaje 0.99809885 %\n",
      "Imagen: 10000.jpg - Prediccion: Dog  -Porcentaje 0.99438155 %\n",
      "Imagen: 10001.jpg - Prediccion: Cat   -Porcentaje 0.0031434596 %\n",
      "Imagen: 10002.jpg - Prediccion: Cat   -Porcentaje 0.01936227 %\n",
      "Imagen: 10003.jpg - Prediccion: Dog  -Porcentaje 0.99990684 %\n",
      "Imagen: 10004.jpg - Prediccion: Dog  -Porcentaje 0.9809032 %\n",
      "Imagen: 10005.jpg - Prediccion: Cat   -Porcentaje 3.268776e-08 %\n"
     ]
    }
   ],
   "source": [
    "#for i in range(len(y_pred)):\n",
    "#Imprimimos los primeros 10 como prueba\n",
    "for i in range(10):\n",
    "    #print(\"Imagen:\" , image_name[i] , \"- Prediccion:\" , y_pred[i][0], \"   -Porcentaje\", predictions[i][0], \"%\")\n",
    "    if y_pred[i][0] == 0.0:\n",
    "        print(\"Imagen:\" , image_name[i] , \"- Prediccion: Cat   -Porcentaje\", predictions[i][0], \"%\")\n",
    "    elif y_pred[i][0] == 1.0:\n",
    "        print(\"Imagen:\" , image_name[i] , \"- Prediccion: Dog  -Porcentaje\", predictions[i][0], \"%\")\n",
    "    else:\n",
    "        print(\"Imagen:\" , image_name[i] , \"- Prediccion: Other -Porcentaje\", predictions[i][0], \"%\")"
   ]
  }
 ],
 "metadata": {
  "kernelspec": {
   "display_name": "Python 3",
   "language": "python",
   "name": "python3"
  },
  "language_info": {
   "codemirror_mode": {
    "name": "ipython",
    "version": 3
   },
   "file_extension": ".py",
   "mimetype": "text/x-python",
   "name": "python",
   "nbconvert_exporter": "python",
   "pygments_lexer": "ipython3",
   "version": "3.8.3"
  }
 },
 "nbformat": 4,
 "nbformat_minor": 4
}
